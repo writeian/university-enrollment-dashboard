{
 "cells": [
  {
   "cell_type": "code",
   "execution_count": 1,
   "id": "0495d9f0-3c08-46f2-aeeb-a405116a7b2e",
   "metadata": {},
   "outputs": [],
   "source": [
    "import sqlite3\n",
    "\n",
    "# Connect to your database (department.db)\n",
    "conn = sqlite3.connect('department.db')\n",
    "cur = conn.cursor()\n"
   ]
  },
  {
   "cell_type": "code",
   "execution_count": 2,
   "id": "f3f65887-917c-4672-9326-a5910651c870",
   "metadata": {},
   "outputs": [
    {
     "name": "stdout",
     "output_type": "stream",
     "text": [
      "Terms table created successfully.\n"
     ]
    }
   ],
   "source": [
    "# Create the Terms table\n",
    "cur.execute('''\n",
    "CREATE TABLE IF NOT EXISTS Terms (\n",
    "    term_id INTEGER PRIMARY KEY AUTOINCREMENT,\n",
    "    term_name TEXT NOT NULL,\n",
    "    start_date DATE,\n",
    "    end_date DATE\n",
    ")\n",
    "''')\n",
    "\n",
    "conn.commit()\n",
    "print(\"Terms table created successfully.\")\n"
   ]
  },
  {
   "cell_type": "code",
   "execution_count": 3,
   "id": "5000e291-f890-4567-ae59-e8e8ea22d004",
   "metadata": {},
   "outputs": [
    {
     "name": "stdout",
     "output_type": "stream",
     "text": [
      "Terms inserted successfully.\n"
     ]
    }
   ],
   "source": [
    "# Define the starting year as 2019 and number of years\n",
    "start_year = 2019\n",
    "num_years = 5\n",
    "\n",
    "terms = []\n",
    "for year in range(start_year, start_year + num_years):\n",
    "    # Spring term: January 10 to May 15\n",
    "    spring_term = (f\"Spring {year}\", f\"{year}-01-10\", f\"{year}-05-15\")\n",
    "    # Fall term: September 1 to December 20\n",
    "    fall_term = (f\"Fall {year}\", f\"{year}-09-01\", f\"{year}-12-20\")\n",
    "    \n",
    "    terms.append(spring_term)\n",
    "    terms.append(fall_term)\n",
    "\n",
    "# Insert the terms into the Terms table\n",
    "cur.executemany('INSERT INTO Terms (term_name, start_date, end_date) VALUES (?, ?, ?)', terms)\n",
    "\n",
    "conn.commit()\n",
    "print(\"Terms inserted successfully.\")\n"
   ]
  },
  {
   "cell_type": "code",
   "execution_count": 4,
   "id": "3aee9906-207d-4cc2-98d8-c0fe7365b43b",
   "metadata": {},
   "outputs": [
    {
     "name": "stdout",
     "output_type": "stream",
     "text": [
      "(1, 'Spring 2019', '2019-01-10', '2019-05-15')\n",
      "(2, 'Fall 2019', '2019-09-01', '2019-12-20')\n",
      "(3, 'Spring 2020', '2020-01-10', '2020-05-15')\n",
      "(4, 'Fall 2020', '2020-09-01', '2020-12-20')\n",
      "(5, 'Spring 2021', '2021-01-10', '2021-05-15')\n",
      "(6, 'Fall 2021', '2021-09-01', '2021-12-20')\n",
      "(7, 'Spring 2022', '2022-01-10', '2022-05-15')\n",
      "(8, 'Fall 2022', '2022-09-01', '2022-12-20')\n",
      "(9, 'Spring 2023', '2023-01-10', '2023-05-15')\n",
      "(10, 'Fall 2023', '2023-09-01', '2023-12-20')\n"
     ]
    }
   ],
   "source": [
    "cur.execute('SELECT * FROM Terms')\n",
    "rows = cur.fetchall()\n",
    "\n",
    "for row in rows:\n",
    "    print(row)\n",
    "\n",
    "conn.close()\n"
   ]
  },
  {
   "cell_type": "code",
   "execution_count": null,
   "id": "b722c435-86de-4614-8732-0dda3b307345",
   "metadata": {},
   "outputs": [],
   "source": []
  }
 ],
 "metadata": {
  "kernelspec": {
   "display_name": "Python 3 (ipykernel)",
   "language": "python",
   "name": "python3"
  },
  "language_info": {
   "codemirror_mode": {
    "name": "ipython",
    "version": 3
   },
   "file_extension": ".py",
   "mimetype": "text/x-python",
   "name": "python",
   "nbconvert_exporter": "python",
   "pygments_lexer": "ipython3",
   "version": "3.13.0"
  }
 },
 "nbformat": 4,
 "nbformat_minor": 5
}
