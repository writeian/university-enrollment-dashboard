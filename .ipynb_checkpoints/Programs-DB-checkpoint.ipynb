{
 "cells": [
  {
   "cell_type": "code",
   "execution_count": 1,
   "id": "24374430-7325-48a3-9994-c1bb3db0204e",
   "metadata": {},
   "outputs": [],
   "source": [
    "import sqlite3\n",
    "\n",
    "# Connect to your existing database (assuming it's named department.db)\n",
    "conn = sqlite3.connect('department.db')\n",
    "cur = conn.cursor()\n"
   ]
  },
  {
   "cell_type": "code",
   "execution_count": 2,
   "id": "77498bf8-6c70-411d-891b-51739622852c",
   "metadata": {},
   "outputs": [
    {
     "name": "stdout",
     "output_type": "stream",
     "text": [
      "Programs table created successfully.\n"
     ]
    }
   ],
   "source": [
    "# Create the Programs table\n",
    "cur.execute('''\n",
    "CREATE TABLE IF NOT EXISTS Programs (\n",
    "    program_id INTEGER PRIMARY KEY AUTOINCREMENT,\n",
    "    program_name TEXT NOT NULL,\n",
    "    department_id INTEGER,\n",
    "    FOREIGN KEY(department_id) REFERENCES Departments(department_id)\n",
    ")\n",
    "''')\n",
    "\n",
    "conn.commit()\n",
    "print(\"Programs table created successfully.\")\n"
   ]
  },
  {
   "cell_type": "code",
   "execution_count": 3,
   "id": "e2e21415-2b06-4383-98d6-2690d9b74df8",
   "metadata": {},
   "outputs": [
    {
     "name": "stdout",
     "output_type": "stream",
     "text": [
      "Sample programs inserted successfully.\n"
     ]
    }
   ],
   "source": [
    "# Sample data for Programs\n",
    "programs = [\n",
    "    ('Computer Science', 1),\n",
    "    ('Mechanical Engineering', 1),\n",
    "    ('Finance', 2),\n",
    "    ('Marketing', 2),\n",
    "    ('History', 3),\n",
    "    ('Psychology', 3)\n",
    "]\n",
    "\n",
    "cur.executemany('INSERT INTO Programs (program_name, department_id) VALUES (?, ?)', programs)\n",
    "\n",
    "conn.commit()\n",
    "print(\"Sample programs inserted successfully.\")\n"
   ]
  },
  {
   "cell_type": "code",
   "execution_count": 4,
   "id": "6476ac86-bba3-4b92-a835-f699a9c00de0",
   "metadata": {},
   "outputs": [
    {
     "name": "stdout",
     "output_type": "stream",
     "text": [
      "(1, 'Computer Science', 1)\n",
      "(2, 'Mechanical Engineering', 1)\n",
      "(3, 'Finance', 2)\n",
      "(4, 'Marketing', 2)\n",
      "(5, 'History', 3)\n",
      "(6, 'Psychology', 3)\n"
     ]
    }
   ],
   "source": [
    "cur.execute('SELECT * FROM Programs')\n",
    "rows = cur.fetchall()\n",
    "\n",
    "for row in rows:\n",
    "    print(row)\n",
    "\n",
    "conn.close()\n"
   ]
  },
  {
   "cell_type": "code",
   "execution_count": null,
   "id": "ed0ff5dc-23b0-469c-a91a-26ce90ec3cb1",
   "metadata": {},
   "outputs": [],
   "source": []
  }
 ],
 "metadata": {
  "kernelspec": {
   "display_name": "Python 3 (ipykernel)",
   "language": "python",
   "name": "python3"
  },
  "language_info": {
   "codemirror_mode": {
    "name": "ipython",
    "version": 3
   },
   "file_extension": ".py",
   "mimetype": "text/x-python",
   "name": "python",
   "nbconvert_exporter": "python",
   "pygments_lexer": "ipython3",
   "version": "3.13.0"
  }
 },
 "nbformat": 4,
 "nbformat_minor": 5
}
