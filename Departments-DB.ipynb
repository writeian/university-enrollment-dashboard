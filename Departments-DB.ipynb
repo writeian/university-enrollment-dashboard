{
 "cells": [
  {
   "cell_type": "code",
   "execution_count": 1,
   "id": "d06c159b-d135-4d67-9369-a8d38580a53a",
   "metadata": {},
   "outputs": [
    {
     "name": "stdout",
     "output_type": "stream",
     "text": [
      "Departments table created successfully in C:\\Users\\HP\\Dashboard\n"
     ]
    }
   ],
   "source": [
    "import sqlite3\n",
    "\n",
    "# Connect to (or create) the SQLite database file in your working directory\n",
    "conn = sqlite3.connect('department.db')\n",
    "cur = conn.cursor()\n",
    "\n",
    "# Create the Departments table\n",
    "cur.execute('''\n",
    "CREATE TABLE IF NOT EXISTS Departments (\n",
    "    department_id INTEGER PRIMARY KEY AUTOINCREMENT,\n",
    "    department_name TEXT NOT NULL\n",
    ")\n",
    "''')\n",
    "\n",
    "# Commit the changes and close the connection\n",
    "conn.commit()\n",
    "conn.close()\n",
    "\n",
    "print(\"Departments table created successfully in C:\\\\Users\\\\HP\\\\Dashboard\")\n"
   ]
  },
  {
   "cell_type": "code",
   "execution_count": 2,
   "id": "c9d63288-6d86-4460-af6a-667d368e25c5",
   "metadata": {},
   "outputs": [
    {
     "name": "stdout",
     "output_type": "stream",
     "text": [
      "Sample departments inserted successfully.\n"
     ]
    }
   ],
   "source": [
    "import sqlite3\n",
    "\n",
    "# Connect to the database\n",
    "conn = sqlite3.connect('department.db')\n",
    "cur = conn.cursor()\n",
    "\n",
    "# Insert sample data into Departments table\n",
    "departments = [('Engineering',), ('Business',), ('Arts & Sciences',)]\n",
    "cur.executemany('INSERT INTO Departments (department_name) VALUES (?)', departments)\n",
    "\n",
    "# Commit and close\n",
    "conn.commit()\n",
    "conn.close()\n",
    "\n",
    "print(\"Sample departments inserted successfully.\")\n"
   ]
  },
  {
   "cell_type": "code",
   "execution_count": 3,
   "id": "2a99743b-a86c-42f0-b6ce-7a2cae488cce",
   "metadata": {},
   "outputs": [
    {
     "name": "stdout",
     "output_type": "stream",
     "text": [
      "(1, 'Engineering')\n",
      "(2, 'Business')\n",
      "(3, 'Arts & Sciences')\n"
     ]
    }
   ],
   "source": [
    "import sqlite3\n",
    "\n",
    "conn = sqlite3.connect('department.db')\n",
    "cur = conn.cursor()\n",
    "\n",
    "# Fetch and print all rows from the Departments table\n",
    "cur.execute('SELECT * FROM Departments')\n",
    "rows = cur.fetchall()\n",
    "\n",
    "for row in rows:\n",
    "    print(row)\n",
    "\n",
    "conn.close()\n"
   ]
  },
  {
   "cell_type": "code",
   "execution_count": null,
   "id": "82431e10-05e9-4e9c-bfda-9dc4d6f78517",
   "metadata": {},
   "outputs": [],
   "source": []
  }
 ],
 "metadata": {
  "kernelspec": {
   "display_name": "Python 3 (ipykernel)",
   "language": "python",
   "name": "python3"
  },
  "language_info": {
   "codemirror_mode": {
    "name": "ipython",
    "version": 3
   },
   "file_extension": ".py",
   "mimetype": "text/x-python",
   "name": "python",
   "nbconvert_exporter": "python",
   "pygments_lexer": "ipython3",
   "version": "3.13.0"
  }
 },
 "nbformat": 4,
 "nbformat_minor": 5
}
